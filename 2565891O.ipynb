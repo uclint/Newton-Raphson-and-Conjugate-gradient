{
 "cells": [
  {
   "cell_type": "markdown",
   "metadata": {},
   "source": [
    "All libraries to be used for the task are imported"
   ]
  },
  {
   "cell_type": "code",
   "execution_count": 3,
   "metadata": {},
   "outputs": [],
   "source": [
    "#import all libraries \n",
    "import numpy as np\n",
    "import matplotlib.pyplot as ppt "
   ]
  },
  {
   "cell_type": "code",
   "execution_count": null,
   "metadata": {},
   "outputs": [],
   "source": []
  },
  {
   "cell_type": "markdown",
   "metadata": {},
   "source": [
    "Question 1a\n",
    "\n",
    "The use of Newton Raphson method to find the root of a function.\n",
    "Step to solve\n",
    "1. Let x be a guess of the root of f(x) = 0\n",
    "2. Define all user functions\n",
    "3. Compute a variable u = f(x)/df(x)\n",
    "4. Let x = x - u and repeat step using a loop until u> tol\n",
    "\n",
    "f(x) = x^3-10x^2 + 5 = 0,\n",
    "x = 0.7,\n",
    "tol = 10^-9 "
   ]
  },
  {
   "cell_type": "code",
   "execution_count": 2,
   "metadata": {},
   "outputs": [
    {
     "name": "stdout",
     "output_type": "stream",
     "text": [
      "The root of the equation is 0.7346035077893033\n"
     ]
    }
   ],
   "source": [
    "x = 0.7 # A variable x is defined as an assumed initial value\n",
    "\n",
    "#All user functions are defined\n",
    "def f(x):\n",
    "    return (x**3) - (10 * x**2) + 5 \n",
    "def df(x):\n",
    "    return (3 * x**2) - (20 * x) #Derivative of the function is defined \n",
    "\n",
    "mylist=[] #A list is defined to store all intermidiate values of x\n",
    "def newtonraphson(f, df, x, tol= 10**-9):\n",
    "\n",
    "    u = (f(x)/df(x))\n",
    "    while abs(u) >=tol:\n",
    "        u = (f(x)/df(x))\n",
    "        x = x - u\n",
    "        mylist.append(x)\n",
    "    return x\n",
    "root = newtonraphson(f, df, 0.7, tol= 10**-9)\n",
    "print(\"The root of the equation is {}\" .format(root))"
   ]
  },
  {
   "cell_type": "code",
   "execution_count": 3,
   "metadata": {},
   "outputs": [
    {
     "data": {
      "text/plain": [
       "[<matplotlib.lines.Line2D at 0x2aa3e0f44e0>]"
      ]
     },
     "execution_count": 3,
     "metadata": {},
     "output_type": "execute_result"
    },
    {
     "data": {
      "image/png": "[encoded data removed]",
      "text/plain": [
       "<matplotlib.figure.Figure at 0x2aa3e015048>"
      ]
     },
     "metadata": {},
     "output_type": "display_data"
    }
   ],
   "source": [
    "#Test for convergence by plotting graph\n",
    "c =np.linspace(0,1,len(mylist))\n",
    "xvals= mylist\n",
    "ppt.ylabel(\"x\")\n",
    "ppt.plot(c, xvals)"
   ]
  },
  {
   "cell_type": "markdown",
   "metadata": {},
   "source": [
    "Question 1b\n",
    "\n",
    "The use of Newton Raphson method to find the root of a function.\n",
    "Step to solve\n",
    "1. Let x be a guess of the root of f(x) = 0\n",
    "2. Define all user functions\n",
    "3. Compute a variable u = f(x)/df(x)\n",
    "4. Let x = x - u and repeat step using a loop until u> tol\n",
    "\n",
    "f(x) = x^3-2x-5 = 0,\n",
    "x = 2.0,\n",
    "tol = 10^-9 "
   ]
  },
  {
   "cell_type": "code",
   "execution_count": 4,
   "metadata": {},
   "outputs": [
    {
     "name": "stdout",
     "output_type": "stream",
     "text": [
      "The root of the equation is 2.0945514815423265\n"
     ]
    }
   ],
   "source": [
    "\n",
    "x = 2.0 # A variable x is defined as an assumed initial value\n",
    "\n",
    "#All user functions are defined \n",
    "def f(x):\n",
    "    return (x**3) - (2 * x) - 5\n",
    "def df(x):\n",
    "    return (3 * x**2) - (2) #Derivative of the function is defined\n",
    "\n",
    "mylist=[] #A list is defined to store all intermidiate values of x\n",
    "\n",
    "def newtonraphson(f, df, x, tol= 10**-9):\n",
    "    \n",
    "    u = (f(x)/df(x))\n",
    "    while abs(u) >=tol:\n",
    "        u = (f(x)/df(x))\n",
    "        x = x - u\n",
    "        mylist.append(x)\n",
    "    return x\n",
    "root = newtonraphson(f, df, 2.0, tol= 10**-9)\n",
    "print(\"The root of the equation is {}\" .format(root))"
   ]
  },
  {
   "cell_type": "code",
   "execution_count": 5,
   "metadata": {},
   "outputs": [
    {
     "data": {
      "text/plain": [
       "[<matplotlib.lines.Line2D at 0x2aa3e148dd8>]"
      ]
     },
     "execution_count": 5,
     "metadata": {},
     "output_type": "execute_result"
    },
    {
     "data": {
      "image/png": "[encoded data removed]",
      "text/plain": [
       "<matplotlib.figure.Figure at 0x2aa3e1486a0>"
      ]
     },
     "metadata": {},
     "output_type": "display_data"
    }
   ],
   "source": [
    "#Test for convergence by plotting graph\n",
    "c =np.linspace(0,1,len(mylist))\n",
    "xvals= mylist\n",
    "ppt.ylabel(\"x\")\n",
    "ppt.plot(c, xvals)"
   ]
  },
  {
   "cell_type": "markdown",
   "metadata": {},
   "source": [
    "Question 1c\n",
    "\n",
    "The use of Newton Raphson method to find the root of a function.\n",
    "Step to solve\n",
    "1. Let x be a guess of the root of f(x) = 0\n",
    "2. Define all user functions\n",
    "3. Compute a variable u = f(x)/df(x)\n",
    "4. Let x = x - u and repeat step using a loop until u> tol\n",
    "\n",
    "f(x) = x-2sin(x) = 0,\n",
    "x = 1.5,\n",
    "tol = 10^-9 "
   ]
  },
  {
   "cell_type": "code",
   "execution_count": 5,
   "metadata": {},
   "outputs": [
    {
     "name": "stdout",
     "output_type": "stream",
     "text": [
      "The root of the equation is 1.895494267033981\n"
     ]
    }
   ],
   "source": [
    "#math library is imported for trignometric functions\n",
    "import math\n",
    "x = 1.5 # A variable x is defined as an assumed initial value\n",
    "\n",
    "#All user functions are defined\n",
    "def f(x):\n",
    "    return (x) - (2 * math.sin(x))\n",
    "def df(x):\n",
    "    return 1 - (2 * math.cos(x)) #Derivative of the function is defined\n",
    "\n",
    "mylist=[] # A list is defined to store all intermidiate values of x\n",
    "\n",
    "\n",
    "def newtonraphson(f, df, x, tol= 10**-9):\n",
    "    \n",
    "    u = (f(x)/df(x))\n",
    "    while abs(u) >=tol:\n",
    "        u = (f(x)/df(x))\n",
    "        x = x - u\n",
    "        mylist.append(x)\n",
    "    return x\n",
    "root = newtonraphson(f, df, 1.5, tol= 10**-9)\n",
    "print(\"The root of the equation is {}\" .format(root))"
   ]
  },
  {
   "cell_type": "code",
   "execution_count": 7,
   "metadata": {},
   "outputs": [
    {
     "data": {
      "text/plain": [
       "[<matplotlib.lines.Line2D at 0x2aa3e1950b8>]"
      ]
     },
     "execution_count": 7,
     "metadata": {},
     "output_type": "execute_result"
    },
    {
     "data": {
      "image/png": "[encoded data removed]",
      "text/plain": [
       "<matplotlib.figure.Figure at 0x2aa3e195f98>"
      ]
     },
     "metadata": {},
     "output_type": "display_data"
    }
   ],
   "source": [
    "#Test for convergence by plotting graph\n",
    "c =np.linspace(0,1,len(mylist))\n",
    "xvals= mylist\n",
    "ppt.ylabel(\"x\")\n",
    "ppt.plot(c, xvals)"
   ]
  },
  {
   "cell_type": "markdown",
   "metadata": {},
   "source": [
    "Question 1d\n",
    "\n",
    "The use of Newton Raphson method to find the root of a function.\n",
    "Step to solve\n",
    "1. Let x be a guess of the root of f(x) = 0\n",
    "2. Define all user functions\n",
    "3. Compute a variable u = f(x)/df(x)\n",
    "4. Let x = x - u and repeat step using a loop until u> tol\n",
    "\n",
    "f(x) = x-2sin(x) = 0\n",
    "We try to see a scenario where the newton raphson method wont work by choosing a different starting point.\n",
    "x = 13\n",
    "tol = 10^-9 "
   ]
  },
  {
   "cell_type": "code",
   "execution_count": 6,
   "metadata": {},
   "outputs": [
    {
     "name": "stdout",
     "output_type": "stream",
     "text": [
      "The root of the equation is 0.0\n"
     ]
    }
   ],
   "source": [
    "x = 13 # A new variable x is defined as an assumed initial value\n",
    "\n",
    "#All user functions are defined\n",
    "def f(x):\n",
    "    return (x) - (2 * math.sin(x))\n",
    "def df(x):\n",
    "    return 1 - (2 * math.cos(x)) #Derivative of the function is defined\n",
    "\n",
    "mylist=[] # A list is defined to store all intermidiate values of x\n",
    "\n",
    "\n",
    "def newtonraphson(f, df, x, tol= 10**-9):\n",
    "    \n",
    "    u = (f(x)/df(x))\n",
    "    while abs(u) >=tol:\n",
    "        u = (f(x)/df(x))\n",
    "        x = x - u\n",
    "        mylist.append(x)\n",
    "    return x\n",
    "root = newtonraphson(f, df, 13, tol= 10**-9)\n",
    "print(\"The root of the equation is {}\" .format(root))"
   ]
  },
  {
   "cell_type": "code",
   "execution_count": 7,
   "metadata": {},
   "outputs": [
    {
     "data": {
      "text/plain": [
       "[<matplotlib.lines.Line2D at 0x2e881320be0>]"
      ]
     },
     "execution_count": 7,
     "metadata": {},
     "output_type": "execute_result"
    },
    {
     "data": {
      "image/png": "[encoded data removed]",
      "text/plain": [
       "<matplotlib.figure.Figure at 0x2e881320b70>"
      ]
     },
     "metadata": {},
     "output_type": "display_data"
    }
   ],
   "source": [
    "#Test for convergence by plotting graph\n",
    "c =np.linspace(0,1,len(mylist))\n",
    "xvals= mylist\n",
    "ppt.ylabel(\"x\")\n",
    "ppt.plot(c, xvals)"
   ]
  },
  {
   "cell_type": "markdown",
   "metadata": {},
   "source": [
    "Bonus question.\n",
    "\n",
    "A loan of A pound is repaid by making n equal monthly payments of M pounds, starting a\n",
    "month after the loan is made. It can be shown that if the monthly interest rate is r, then\n",
    "\n",
    "Ar = M(1 - 1/(1+r)^n)\n",
    "\n",
    "A car loan of £10,000 was repaid in 60 monthly payments of £250. Use the Newton Method\n",
    "to find the monthly interest rate correct to 4 signicant figures\n",
    "\n",
    "The Newton raphson method is used to solve this problem."
   ]
  },
  {
   "cell_type": "code",
   "execution_count": 14,
   "metadata": {},
   "outputs": [
    {
     "name": "stdout",
     "output_type": "stream",
     "text": [
      "The root of the equation is 0.0144\n"
     ]
    }
   ],
   "source": [
    "\n",
    "x = 0.015 # A variable x is defined as an assumed initial value\n",
    "\n",
    "#All user functions are defined\n",
    "def f(x):\n",
    "    return 10000 *x - 250 * (1- 1/(1+x)**60)\n",
    "def df(x):\n",
    "    return 10000 - (15000/(1+x)**61)\n",
    "\n",
    "mylist=[] #A list is defined to store all intermidiate values of x\n",
    "def newtonraphson(f, df, x, tol= 10**-9):\n",
    "    u = (f(x)/df(x))\n",
    "    while abs(u) >=tol:\n",
    "        u = (f(x)/df(x))\n",
    "        x = x - u\n",
    "        mylist.append(x)\n",
    "    return x\n",
    "root = newtonraphson(f, df, 0.015, tol= 10**-9)\n",
    "print(\"The root of the equation is {:.4f}\" .format(root))"
   ]
  },
  {
   "cell_type": "code",
   "execution_count": 9,
   "metadata": {},
   "outputs": [
    {
     "data": {
      "text/plain": [
       "[<matplotlib.lines.Line2D at 0x2aa3e4780b8>]"
      ]
     },
     "execution_count": 9,
     "metadata": {},
     "output_type": "execute_result"
    },
    {
     "data": {
      "image/png": "[encoded data removed]",
      "text/plain": [
       "<matplotlib.figure.Figure at 0x2aa3e4398d0>"
      ]
     },
     "metadata": {},
     "output_type": "display_data"
    }
   ],
   "source": [
    "#Test for convergence by plotting graph\n",
    "c =np.linspace(0,1,len(mylist))\n",
    "xvals= mylist\n",
    "ppt.ylabel(\"x\")\n",
    "ppt.plot(c, xvals)"
   ]
  },
  {
   "attachments": {
    "mati.PNG": {
     "image/png": "[encoded data removed]"
    },
    "ste.PNG": {
     "image/png": "[encoded data removed]"
    }
   },
   "cell_type": "markdown",
   "metadata": {},
   "source": [
    "Question 2\n",
    "\n",
    "Write a program that solves equations of the form Ax = b using Conjugate Gradient Method. Use this to solve the eqn.\n",
    "![mati.PNG](attachment:mati.PNG)\n",
    "\n",
    "Step to solve:\n",
    "1. All user variables are defined and variables A and b are defined using the numpy arrays.\n",
    "2. Choose initial guess x\n",
    "3. Define a conjugate gradient variable.\n",
    "4. A for loop is called\n",
    "![ste.PNG](attachment:ste.PNG)"
   ]
  },
  {
   "cell_type": "code",
   "execution_count": 4,
   "metadata": {},
   "outputs": [
    {
     "name": "stdout",
     "output_type": "stream",
     "text": [
      "(array([ 2.52388666, -0.36654029,  2.36654029]), 2)\n"
     ]
    }
   ],
   "source": [
    "import numpy as np \n",
    "A = np.array([[4, -1, 1], [-1, 4, -2], [1, -2, 4]]) #A variable that calls square matrix A is defined.\n",
    "b = np.array([12, -1, 5]) #A vector variable b is defined\n",
    "x = np.ones(3) #A matrix with same shape as b that serves as the initial guess with all ones.\n",
    "def As(s):\n",
    "    return np.dot(A,s)\n",
    "def conjGrad(As, x, b, tol = 10**-5):\n",
    "    n= len(b)\n",
    "    r = b - np.dot(A, x) \n",
    "    s = r.copy()\n",
    "\n",
    "#conjugate gradient for loop\n",
    "    for k in range (0, 3):\n",
    "        numerator = np.dot(s,r)\n",
    "        As = np.dot(A,s)\n",
    "        denominator = np.dot(s, As)\n",
    "        alpha = numerator/ denominator\n",
    "        x = x + alpha * s\n",
    "        r = np.dot(A, x) - b\n",
    "        rnorm = np.dot(r, r)\n",
    "        if rnorm < tol:\n",
    "            break\n",
    "        else:\n",
    "            numerator = np.dot(r, As)\n",
    "            denominator = np.dot(s, As)\n",
    "            beta = numerator/ denominator\n",
    "            s = r + beta * s\n",
    "    #Return the requested information\n",
    "    return x, k\n",
    "solution = conjGrad(As, x, b, tol = 10**-5)\n",
    "print(solution)"
   ]
  }
 ],
 "metadata": {
  "kernelspec": {
   "display_name": "Python 3",
   "language": "python",
   "name": "python3"
  },
  "language_info": {
   "codemirror_mode": {
    "name": "ipython",
    "version": 3
   },
   "file_extension": ".py",
   "mimetype": "text/x-python",
   "name": "python",
   "nbconvert_exporter": "python",
   "pygments_lexer": "ipython3",
   "version": "3.6.4"
  }
 },
 "nbformat": 4,
 "nbformat_minor": 2
}
